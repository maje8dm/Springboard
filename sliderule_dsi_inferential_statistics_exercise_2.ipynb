{
 "cells": [
  {
   "cell_type": "markdown",
   "metadata": {},
   "source": [
    "# Examining Racial Discrimination in the US Job Market\n",
    "\n",
    "### Background\n",
    "Racial discrimination continues to be pervasive in cultures throughout the world. Researchers examined the level of racial discrimination in the United States labor market by randomly assigning identical résumés to black-sounding or white-sounding names and observing the impact on requests for interviews from employers.\n",
    "\n",
    "### Data\n",
    "In the dataset provided, each row represents a resume. The 'race' column has two values, 'b' and 'w', indicating black-sounding and white-sounding. The column 'call' has two values, 1 and 0, indicating whether the resume received a call from employers or not.\n",
    "\n",
    "Note that the 'b' and 'w' values in race are assigned randomly to the resumes when presented to the employer."
   ]
  },
  {
   "cell_type": "markdown",
   "metadata": {},
   "source": [
    "### Exercises\n",
    "You will perform a statistical analysis to establish whether race has a significant impact on the rate of callbacks for resumes.\n",
    "\n",
    "Answer the following questions **in this notebook below and submit to your Github account**. \n",
    "\n",
    "   1. What test is appropriate for this problem? Does CLT apply?\n",
    "   2. What are the null and alternate hypotheses?\n",
    "   3. Compute margin of error, confidence interval, and p-value.\n",
    "   4. Write a story describing the statistical significance in the context or the original problem.\n",
    "   5. Does your analysis mean that race/name is the most important factor in callback success? Why or why not? If not, how would you amend your analysis?\n",
    "\n",
    "You can include written notes in notebook cells using Markdown: \n",
    "   - In the control panel at the top, choose Cell > Cell Type > Markdown\n",
    "   - Markdown syntax: http://nestacms.com/docs/creating-content/markdown-cheat-sheet\n",
    "\n",
    "\n",
    "#### Resources\n",
    "+ Experiment information and data source: http://www.povertyactionlab.org/evaluation/discrimination-job-market-united-states\n",
    "+ Scipy statistical methods: http://docs.scipy.org/doc/scipy/reference/stats.html \n",
    "+ Markdown syntax: http://nestacms.com/docs/creating-content/markdown-cheat-sheet\n",
    "****"
   ]
  },
  {
   "cell_type": "code",
   "execution_count": 107,
   "metadata": {
    "collapsed": true
   },
   "outputs": [],
   "source": [
    "import pandas as pd\n",
    "import numpy as np\n",
    "from scipy import stats"
   ]
  },
  {
   "cell_type": "code",
   "execution_count": 108,
   "metadata": {
    "collapsed": true
   },
   "outputs": [],
   "source": [
    "data = pd.io.stata.read_stata('data/us_job_market_discrimination.dta')"
   ]
  },
  {
   "cell_type": "code",
   "execution_count": 109,
   "metadata": {
    "collapsed": true
   },
   "outputs": [],
   "source": [
    "# number of callbacks for black-sounding names\n",
    "black_calls_array=data[data.race=='b']['call'].values\n",
    "white_calls_array=data[data.race=='w']['call'].values"
   ]
  },
  {
   "cell_type": "code",
   "execution_count": 110,
   "metadata": {},
   "outputs": [
    {
     "data": {
      "text/plain": [
       "(4870, 65)"
      ]
     },
     "execution_count": 110,
     "metadata": {},
     "output_type": "execute_result"
    }
   ],
   "source": [
    "data.shape"
   ]
  },
  {
   "cell_type": "code",
   "execution_count": 171,
   "metadata": {},
   "outputs": [
    {
     "name": "stdout",
     "output_type": "stream",
     "text": [
      "frac black calls= 0.0644764\n",
      "std dvn black calls= 0.2456\n",
      "frac white calls= 0.0965092\n",
      "std dvn white calls= 0.295288\n",
      "frac all calls= 0.0804928\n",
      "std dvn all calls= 0.272055\n",
      "diff in call rates= 0.0320329\n"
     ]
    }
   ],
   "source": [
    "#mean and std dvn for binomial distribution for black interview calls\n",
    "mu_black=np.mean(black_calls_array)\n",
    "sigma_black=np.std(black_calls_array)\n",
    "print('frac black calls=', mu_black)\n",
    "print('std dvn black calls=',sigma_black)\n",
    "\n",
    "#mean and std dvn for binomial distribution for white interview calls\n",
    "mu_white=np.mean(white_calls_array)\n",
    "sigma_white=np.std(white_calls_array)\n",
    "print('frac white calls=', mu_white)\n",
    "print('std dvn white calls=',sigma_white)\n",
    "\n",
    "#mean and st dvn for combined data\n",
    "comb_array=np.concatenate((white_calls_array, black_calls_array))\n",
    "mu_combined=np.mean(comb_array)\n",
    "sigma_combined=np.std(comb_array)\n",
    "print('frac all calls=', mu_combined)\n",
    "print('std dvn all calls=',sigma_combined)\n",
    "\n",
    "#diff between white and black call rates\n",
    "diff=mu_white-mu_black\n",
    "print('diff in call rates=',diff)"
   ]
  },
  {
   "cell_type": "code",
   "execution_count": 112,
   "metadata": {},
   "outputs": [
    {
     "name": "stdout",
     "output_type": "stream",
     "text": [
      "2435\n",
      "2435\n",
      "fraction black interview= 0.064476386037\n",
      "fraction wnite interview= 0.0965092402464\n"
     ]
    }
   ],
   "source": [
    "#lenght of black and white job applicant arrays\n",
    "len_black=len(data[(data['race']=='b')])\n",
    "len_white=len(data[(data['race']=='w')])\n",
    "print(len_black)\n",
    "print(len_white)\n",
    "#rechecking fraction of blacks and whites getting interview calls\n",
    "black_calls_frac=black_calls/len_black\n",
    "white_calls_frac=white_calls/len_white\n",
    "print('fraction black interview=',black_calls_frac)\n",
    "print('fraction wnite interview=',white_calls_frac)"
   ]
  },
  {
   "cell_type": "markdown",
   "metadata": {
    "collapsed": true
   },
   "source": [
    "# Q1 What test is appropriate for this problem? Does CLT apply?"
   ]
  },
  {
   "cell_type": "markdown",
   "metadata": {},
   "source": [
    "Ans1 : As per CLT , the sample means of any random variable drawn from a population are normally distributed. What would be normally distributed here is the sample mean of fraction of blacks or whites getting a interview call. We can do permutation test to check if fraction of blacks or whites called for interview is essentially is the same. We will also do z and t test."
   ]
  },
  {
   "cell_type": "markdown",
   "metadata": {},
   "source": [
    "# Q2 What are the null and alternate hypotheses?"
   ]
  },
  {
   "cell_type": "markdown",
   "metadata": {},
   "source": [
    "Ans2: The null hypothesis is that the the  black callback rate and white call rate is essentially the same. Alternate hypothesis is that the black callback rate is less than white call back rate."
   ]
  },
  {
   "cell_type": "markdown",
   "metadata": {},
   "source": [
    "# Q3 Compute margin of error, confidence interval, and p-value."
   ]
  },
  {
   "cell_type": "markdown",
   "metadata": {},
   "source": [
    "Ans3: We will do \n",
    "    1)permutations test\n",
    "    2) t test\n",
    "    3) ztest"
   ]
  },
  {
   "cell_type": "code",
   "execution_count": 162,
   "metadata": {
    "collapsed": true
   },
   "outputs": [],
   "source": [
    "#function to draw permutation samples\n",
    "def draw_perm_reps(data1, data2, size=1):\n",
    "    \"\"\"Generate multiple permutation replicates.\"\"\"\n",
    "    #size indicates number os amples\n",
    "    # Initialize array of replicates: perm_replicates\n",
    "    perm_replicates = np.empty(size)\n",
    "    combined_data = np.concatenate((data1, data2))\n",
    "\n",
    "    for i in range(size):\n",
    "        # Generate permutation sample\n",
    "        permuted_data = np.random.permutation(combined_data)\n",
    "        perm_sample_1 = permuted_data[:len(data1)]\n",
    "        perm_sample_2 = permuted_data[len(data2):]\n",
    "        # Compute the test statistic\n",
    "        perm_replicates[i] = np.mean(perm_sample_1)-np.mean(perm_sample_2)\n",
    "\n",
    "    return perm_replicates"
   ]
  },
  {
   "cell_type": "code",
   "execution_count": 175,
   "metadata": {},
   "outputs": [
    {
     "name": "stdout",
     "output_type": "stream",
     "text": [
      "p-value = 0.0\n"
     ]
    }
   ],
   "source": [
    "perm_replicate_calls=draw_perm_reps(white_calls_array, black_calls_array, 1000)\n",
    "p = np.sum(perm_replicate_calls >= diff) / len(perm_replicate_calls)\n",
    "\n",
    "# Print the result\n",
    "print('p-value =', p)\n"
   ]
  },
  {
   "cell_type": "code",
   "execution_count": 176,
   "metadata": {},
   "outputs": [
    {
     "name": "stdout",
     "output_type": "stream",
     "text": [
      "-0.000202053278685\n",
      "0.00794524766859\n"
     ]
    }
   ],
   "source": [
    "print(np.mean(perm_replicate_calls))\n",
    "print(np.std(perm_replicate_calls))"
   ]
  },
  {
   "cell_type": "code",
   "execution_count": 177,
   "metadata": {},
   "outputs": [
    {
     "name": "stdout",
     "output_type": "stream",
     "text": [
      "95% confidence interval is ( 0.0164065659046    0.0476386100054 )\n"
     ]
    }
   ],
   "source": [
    "conf_int = np.percentile(perm_replicate_calls, [2.5, 97.5])\n",
    "s1,s2=(diff+conf_int[0],diff+conf_int[1])\n",
    "print('95% confidence interval is (',s1,'  ',s2,')')"
   ]
  },
  {
   "cell_type": "code",
   "execution_count": 166,
   "metadata": {},
   "outputs": [
    {
     "data": {
      "text/plain": [
       "Ttest_indResult(statistic=4.1147052908617514, pvalue=3.9429415136459352e-05)"
      ]
     },
     "execution_count": 166,
     "metadata": {},
     "output_type": "execute_result"
    }
   ],
   "source": [
    "#t test\n",
    "stats.ttest_ind(white_calls_array,black_calls_array,equal_var=False)"
   ]
  },
  {
   "cell_type": "code",
   "execution_count": 184,
   "metadata": {},
   "outputs": [
    {
     "name": "stdout",
     "output_type": "stream",
     "text": [
      "z stat is  4.10841214853\n",
      "p stat is 3.98388690499e-05\n",
      "confidence interval at 95% is ( 0.0167509422216   0.0473147674885 )\n",
      "margin of error is +/- 0.0152819126334\n"
     ]
    }
   ],
   "source": [
    " #z test\n",
    "denom=(np.sqrt(mu_combined*(1-mu_combined)*(1/len_black+1/len_white)))\n",
    "z_stat=(mu_white-mu_black)/denom\n",
    "print('z stat is ',z_stat)\n",
    "pval = 2*(1 - stats.norm.cdf(np.abs(z_stat)))\n",
    "print('p stat is',pval)\n",
    "#95% confidence interval\n",
    "print('confidence interval at 95% is (',diff-1.96*denom,' ',diff+1.96*denom,')')\n",
    "print('margin of error is +/-',1.96*denom)\n"
   ]
  },
  {
   "cell_type": "markdown",
   "metadata": {},
   "source": [
    "Permutation, t and z test shows that the null hypothesis that inteview callback rates for blacks and whites are the same can be rejected. At 95% confidence level, the margin of error +/- +0.015."
   ]
  },
  {
   "cell_type": "markdown",
   "metadata": {},
   "source": [
    "# Q4 Write a story describing the statistical significance in the context or the original problem.\n"
   ]
  },
  {
   "cell_type": "markdown",
   "metadata": {},
   "source": [
    "Resumes with black-sounding names have interview call back rate about 3.2% lower than white-sounding names. The null hypothesis that the callback rates is essentially the same was rejected. The p-value for the test of equality of callback rates is of the order of 5th decimal place. The 95% confidence level of difference between white and black call back rates was (1.6%,4.7%)."
   ]
  },
  {
   "cell_type": "markdown",
   "metadata": {},
   "source": [
    "# Q5 Does your analysis mean that race/name is the most important factor in callback success? Why or why not? If not, how would you amend your analysis?"
   ]
  },
  {
   "cell_type": "markdown",
   "metadata": {},
   "source": [
    "Our analysis shows that the interview callback rates for white-sounding and black-sounding names is not the same. It does not conclude that race is the most important factor in getting interview calls. We will need to test other features in the data for their impact on interview call back rates. We would also need to check for correlation between race and other features."
   ]
  }
 ],
 "metadata": {
  "kernelspec": {
   "display_name": "Python 3",
   "language": "python",
   "name": "python3"
  },
  "language_info": {
   "codemirror_mode": {
    "name": "ipython",
    "version": 3
   },
   "file_extension": ".py",
   "mimetype": "text/x-python",
   "name": "python",
   "nbconvert_exporter": "python",
   "pygments_lexer": "ipython3",
   "version": "3.6.3"
  }
 },
 "nbformat": 4,
 "nbformat_minor": 1
}
