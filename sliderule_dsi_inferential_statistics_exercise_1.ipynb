{
 "cells": [
  {
   "cell_type": "markdown",
   "metadata": {},
   "source": [
    "# What is the True Normal Human Body Temperature? \n",
    "\n",
    "#### Background\n",
    "\n",
    "The mean normal body temperature was held to be 37$^{\\circ}$C or 98.6$^{\\circ}$F for more than 120 years since it was first conceptualized and reported by Carl Wunderlich in a famous 1868 book. But, is this value statistically correct?"
   ]
  },
  {
   "cell_type": "markdown",
   "metadata": {},
   "source": [
    "<h3>Exercises</h3>\n",
    "\n",
    "<p>In this exercise, you will analyze a dataset of human body temperatures and employ the concepts of hypothesis testing, confidence intervals, and statistical significance.</p>\n",
    "\n",
    "<p>Answer the following questions <b>in this notebook below and submit to your Github account</b>.</p> \n",
    "\n",
    "<ol>\n",
    "<li>  Is the distribution of body temperatures normal? \n",
    "    <ul>\n",
    "    <li> Although this is not a requirement for CLT to hold (read CLT carefully), it gives us some peace of mind that the population may also be normally distributed if we assume that this sample is representative of the population.\n",
    "    </ul>\n",
    "<li>  Is the sample size large? Are the observations independent?\n",
    "    <ul>\n",
    "    <li> Remember that this is a condition for the CLT, and hence the statistical tests we are using, to apply.\n",
    "    </ul>\n",
    "<li>  Is the true population mean really 98.6 degrees F?\n",
    "    <ul>\n",
    "    <li> Would you use a one-sample or two-sample test? Why?\n",
    "    <li> In this situation, is it appropriate to use the $t$ or $z$ statistic? \n",
    "    <li> Now try using the other test. How is the result be different? Why?\n",
    "    </ul>\n",
    "<li>  Draw a small sample of size 10 from the data and repeat both tests. \n",
    "    <ul>\n",
    "    <li> Which one is the correct one to use? \n",
    "    <li> What do you notice? What does this tell you about the difference in application of the $t$ and $z$ statistic?\n",
    "    </ul>\n",
    "<li>  At what temperature should we consider someone's temperature to be \"abnormal\"?\n",
    "    <ul>\n",
    "    <li> Start by computing the margin of error and confidence interval.\n",
    "    </ul>\n",
    "<li>  Is there a significant difference between males and females in normal temperature?\n",
    "    <ul>\n",
    "    <li> What test did you use and why?\n",
    "    <li> Write a story with your conclusion in the context of the original problem.\n",
    "    </ul>\n",
    "</ol>\n",
    "\n",
    "You can include written notes in notebook cells using Markdown: \n",
    "   - In the control panel at the top, choose Cell > Cell Type > Markdown\n",
    "   - Markdown syntax: http://nestacms.com/docs/creating-content/markdown-cheat-sheet\n",
    "\n",
    "#### Resources\n",
    "\n",
    "+ Information and data sources: http://www.amstat.org/publications/jse/datasets/normtemp.txt, http://www.amstat.org/publications/jse/jse_data_archive.htm\n",
    "+ Markdown syntax: http://nestacms.com/docs/creating-content/markdown-cheat-sheet\n",
    "\n",
    "****"
   ]
  },
  {
   "cell_type": "code",
   "execution_count": 177,
   "metadata": {
    "collapsed": true
   },
   "outputs": [],
   "source": [
    "import pandas as pd\n",
    "\n",
    "df = pd.read_csv('data/human_body_temperature.csv')"
   ]
  },
  {
   "cell_type": "code",
   "execution_count": 178,
   "metadata": {
    "collapsed": true
   },
   "outputs": [],
   "source": [
    "import numpy as np\n",
    "from scipy import stats, integrate\n",
    "import seaborn as sns\n",
    "%matplotlib inline\n",
    "import matplotlib.pyplot as plt"
   ]
  },
  {
   "cell_type": "code",
   "execution_count": 179,
   "metadata": {},
   "outputs": [
    {
     "data": {
      "text/plain": [
       "Index(['temperature', 'gender', 'heart_rate'], dtype='object')"
      ]
     },
     "execution_count": 179,
     "metadata": {},
     "output_type": "execute_result"
    }
   ],
   "source": [
    "df.columns"
   ]
  },
  {
   "cell_type": "code",
   "execution_count": 180,
   "metadata": {},
   "outputs": [
    {
     "data": {
      "text/plain": [
       "130"
      ]
     },
     "execution_count": 180,
     "metadata": {},
     "output_type": "execute_result"
    }
   ],
   "source": [
    "len(df.index)"
   ]
  },
  {
   "cell_type": "code",
   "execution_count": 181,
   "metadata": {},
   "outputs": [
    {
     "data": {
      "text/html": [
       "<div>\n",
       "<style>\n",
       "    .dataframe thead tr:only-child th {\n",
       "        text-align: right;\n",
       "    }\n",
       "\n",
       "    .dataframe thead th {\n",
       "        text-align: left;\n",
       "    }\n",
       "\n",
       "    .dataframe tbody tr th {\n",
       "        vertical-align: top;\n",
       "    }\n",
       "</style>\n",
       "<table border=\"1\" class=\"dataframe\">\n",
       "  <thead>\n",
       "    <tr style=\"text-align: right;\">\n",
       "      <th></th>\n",
       "      <th>temperature</th>\n",
       "      <th>gender</th>\n",
       "      <th>heart_rate</th>\n",
       "    </tr>\n",
       "  </thead>\n",
       "  <tbody>\n",
       "    <tr>\n",
       "      <th>0</th>\n",
       "      <td>99.3</td>\n",
       "      <td>F</td>\n",
       "      <td>68.0</td>\n",
       "    </tr>\n",
       "    <tr>\n",
       "      <th>1</th>\n",
       "      <td>98.4</td>\n",
       "      <td>F</td>\n",
       "      <td>81.0</td>\n",
       "    </tr>\n",
       "    <tr>\n",
       "      <th>2</th>\n",
       "      <td>97.8</td>\n",
       "      <td>M</td>\n",
       "      <td>73.0</td>\n",
       "    </tr>\n",
       "    <tr>\n",
       "      <th>3</th>\n",
       "      <td>99.2</td>\n",
       "      <td>F</td>\n",
       "      <td>66.0</td>\n",
       "    </tr>\n",
       "    <tr>\n",
       "      <th>4</th>\n",
       "      <td>98.0</td>\n",
       "      <td>F</td>\n",
       "      <td>73.0</td>\n",
       "    </tr>\n",
       "  </tbody>\n",
       "</table>\n",
       "</div>"
      ],
      "text/plain": [
       "   temperature gender  heart_rate\n",
       "0         99.3      F        68.0\n",
       "1         98.4      F        81.0\n",
       "2         97.8      M        73.0\n",
       "3         99.2      F        66.0\n",
       "4         98.0      F        73.0"
      ]
     },
     "execution_count": 181,
     "metadata": {},
     "output_type": "execute_result"
    }
   ],
   "source": [
    "df.head()"
   ]
  },
  {
   "cell_type": "markdown",
   "metadata": {},
   "source": [
    "# Q1) Is the distribution of body temperatures normal? \n",
    "Although this is not a requirement for CLT to hold (read CLT carefully), it gives us some peace of mind that the population may also be normally distributed if we assume that this sample is representative of the population. "
   ]
  },
  {
   "cell_type": "markdown",
   "metadata": {},
   "source": [
    "# Ans: \n",
    "We will\n",
    "    1)plot histogram of tempertaure data\n",
    "    2)plot the CDF of our discrete temperature data against a theoretical normal CDF\n",
    "    3)plot a qq plot\n",
    "    "
   ]
  },
  {
   "cell_type": "code",
   "execution_count": 182,
   "metadata": {
    "collapsed": true
   },
   "outputs": [],
   "source": [
    "#data for plotting histogram\n",
    "n_data = len(df.index)\n",
    "#good practice to have number of bins equal to square root of data\n",
    "n_bins = np.sqrt(n_data)\n",
    "n_bins = int(n_bins)"
   ]
  },
  {
   "cell_type": "code",
   "execution_count": 183,
   "metadata": {},
   "outputs": [
    {
     "data": {
      "text/plain": [
       "11"
      ]
     },
     "execution_count": 183,
     "metadata": {},
     "output_type": "execute_result"
    }
   ],
   "source": [
    "n_bins"
   ]
  },
  {
   "cell_type": "code",
   "execution_count": 184,
   "metadata": {},
   "outputs": [
    {
     "data": {
      "image/png": "[encoded data removed]",
      "text/plain": [
       "<matplotlib.figure.Figure at 0x148cf9cbc50>"
      ]
     },
     "metadata": {},
     "output_type": "display_data"
    }
   ],
   "source": [
    "_ = plt.hist(df['temperature'],bins=n_bins)\n",
    "_ = plt.xlabel('temp')\n",
    "_ = plt.ylabel('count')"
   ]
  },
  {
   "cell_type": "code",
   "execution_count": 185,
   "metadata": {
    "collapsed": true
   },
   "outputs": [],
   "source": [
    "#converting temperature data into array\n",
    "array_temperature=df['temperature'].values"
   ]
  },
  {
   "cell_type": "code",
   "execution_count": 186,
   "metadata": {
    "collapsed": true
   },
   "outputs": [],
   "source": [
    "#getting data to form discrete cumulative graph for temmperature data\n",
    "def ecdf(data):\n",
    "    \n",
    " # Number of data points: n_data above\n",
    "   \n",
    "    # x-data for the ECDF: x\n",
    "    x = np.sort(data)\n",
    "\n",
    "    n=len(data)\n",
    "    # y-data for the ECDF: y\n",
    "    y = np.arange(1, n+1) / n\n",
    "\n",
    "    return x, y"
   ]
  },
  {
   "cell_type": "code",
   "execution_count": 194,
   "metadata": {
    "collapsed": true
   },
   "outputs": [],
   "source": [
    "#theoretical normal function using mean and standard deviation from temperature data\n",
    "mu = np.mean(df['temperature'])\n",
    "sigma = np.std(df['temperature'])\n",
    "\n",
    "# Sample out of a normal distribution with this mu and sigma: samples\n",
    "samples = np.random.normal(mu, sigma, size=10000)\n",
    "\n",
    "# Get the CDF of the samples and of the data\n",
    "x_theor, y_theor = ecdf(samples)"
   ]
  },
  {
   "cell_type": "code",
   "execution_count": 196,
   "metadata": {},
   "outputs": [
    {
     "name": "stdout",
     "output_type": "stream",
     "text": [
      "mean temperature= 98.24923076923078\n",
      "std dvn of temperature= 0.7303577789050377\n"
     ]
    }
   ],
   "source": [
    "print ('mean temperature=',mu)\n",
    "print ('std dvn of temperature=',sigma)"
   ]
  },
  {
   "cell_type": "code",
   "execution_count": 190,
   "metadata": {},
   "outputs": [
    {
     "data": {
      "text/plain": [
       "<function matplotlib.pyplot.show>"
      ]
     },
     "execution_count": 190,
     "metadata": {},
     "output_type": "execute_result"
    },
    {
     "data": {
      "image/png": "[encoded data removed]",
      "text/plain": [
       "<matplotlib.figure.Figure at 0x148cfa5d5f8>"
      ]
     },
     "metadata": {},
     "output_type": "display_data"
    }
   ],
   "source": [
    "x, y = ecdf(array_temperature)\n",
    "# Plot the CDFs and show the plot\n",
    "_ = plt.plot(x_theor, y_theor)\n",
    "_ = plt.plot(x, y, marker='.', linestyle='none')\n",
    "plt.margins(0.02)\n",
    "_ = plt.xlabel('temperatur(F)')\n",
    "_ = plt.ylabel('CDF')\n",
    "plt.show"
   ]
  },
  {
   "cell_type": "code",
   "execution_count": 201,
   "metadata": {},
   "outputs": [
    {
     "data": {
      "image/png": "[encoded data removed]",
      "text/plain": [
       "<matplotlib.figure.Figure at 0x148cffb3470>"
      ]
     },
     "metadata": {},
     "output_type": "display_data"
    }
   ],
   "source": [
    "stats.probplot(array_temperature, dist=\"norm\", plot=plt)\n",
    "plt.title(\"Q-Q Plot\")\n",
    "plt.ylabel(\"Temperature quantiles\")\n",
    "plt.show()"
   ]
  },
  {
   "cell_type": "markdown",
   "metadata": {},
   "source": [
    "All three plots (histogram, CDFs and Q-Q) indicate that our sample is approximately normally distributed."
   ]
  },
  {
   "cell_type": "markdown",
   "metadata": {},
   "source": [
    "# Q2)Is the sample size large? Are the observations independent? \n",
    "Remember that this is a condition for the CLT, and hence the statistical tests we are using, to apply."
   ]
  },
  {
   "cell_type": "markdown",
   "metadata": {},
   "source": [
    "# Ans \n",
    "For a large sample size (rule of thumb: n ≥ 30), sample mean is approximately normally distributed, regardless of the distribution of the population one samples.Our sample size of 130 is large enough for CLT. The observations are drawn from individual persons and hence should be independent."
   ]
  },
  {
   "cell_type": "markdown",
   "metadata": {},
   "source": [
    "# Q3 Is the true population mean really 98.6 degrees F? \n",
    "Would you use a one-sample or two-sample test? Why? In this situation, is it appropriate to use the t or zstatistic? \n",
    "Now try using the other test. How is the result be different? Why? "
   ]
  },
  {
   "cell_type": "markdown",
   "metadata": {},
   "source": [
    "# Ans:\n",
    "We need to use 1 sample test to check if mean is different from 98.6 F. When sample size is relatively large the t-score is approximately equal to z-score . The null hypothesis (H0)is that the true popultation temperature average is 98.6 F. We will try three methods\n",
    "1)bootstrap test\n",
    "2)z test\n",
    "3)t test"
   ]
  },
  {
   "cell_type": "code",
   "execution_count": 89,
   "metadata": {
    "collapsed": true
   },
   "outputs": [],
   "source": [
    "#Take bootstrap replicates of the temperature data\n",
    "#number of replicates\n",
    "def get_replicates(samp,n_of_rep,size):\n",
    "    samp_replicates=np.empty(n_of_rep)\n",
    "    for i in range(n_of_rep):\n",
    "                samp_replicates[i]= np.mean(np.random.choice(samp, size))\n",
    "            \n",
    "    return samp_replicates\n"
   ]
  },
  {
   "cell_type": "code",
   "execution_count": 204,
   "metadata": {},
   "outputs": [
    {
     "name": "stdout",
     "output_type": "stream",
     "text": [
      "std dvn of sample= 0.0637548926072\n",
      "mean of sample= 98.5994692308\n",
      "95% confidence interval= [ 98.47305769  98.72234615]\n"
     ]
    }
   ],
   "source": [
    "#create array of by shifting the temperature data so that its mean is 98.6\n",
    "shifted_data=array_temperature-mu+98.6\n",
    "temp_replicates=get_replicates(shifted_data,1000,130)\n",
    "print('std dvn of sample=',np.std(temp_replicates))\n",
    "print('mean of sample=',np.mean(temp_replicates))\n",
    "conf_int = np.percentile(temp_replicates, [2.5, 97.5])\n",
    "print('95% confidence interval=',conf_int)"
   ]
  },
  {
   "cell_type": "code",
   "execution_count": 260,
   "metadata": {},
   "outputs": [
    {
     "name": "stdout",
     "output_type": "stream",
     "text": [
      "p =  0.0\n"
     ]
    }
   ],
   "source": [
    "# Compute fraction of replicates that are less than the 0bserved\n",
    "p = np.sum(temp_replicates <= mu) / 1000\n",
    "\n",
    "# Print the p-value\n",
    "print('p = ', p)\n",
    "#z test"
   ]
  },
  {
   "cell_type": "markdown",
   "metadata": {},
   "source": [
    "So hypothesis that the mean 98.26 of our sample is not signficantly different from population mean of 98.6 is not true.We will now do a t test with the same hypothesis that there is no significant difference in temperature between sample and general population."
   ]
  },
  {
   "cell_type": "code",
   "execution_count": 219,
   "metadata": {},
   "outputs": [
    {
     "name": "stdout",
     "output_type": "stream",
     "text": [
      "0.06405661469519336\n",
      "the z val is -5.475925202078116 ;  pvalue is 4.35231516588e-08\n"
     ]
    }
   ],
   "source": [
    "#ztest\n",
    "SE=sigma/(n_data**0.5)\n",
    "print (SE)\n",
    "z_val=(mu-98.6)/SE\n",
    "# P value calculation\n",
    "P_val=stats.norm.cdf(z_val) * 2 # two sided\n",
    "print('the z val is',z_val,';  pvalue is',P_val)"
   ]
  },
  {
   "cell_type": "code",
   "execution_count": 214,
   "metadata": {},
   "outputs": [
    {
     "name": "stdout",
     "output_type": "stream",
     "text": [
      "the t stat is -5.45482329236 ;  pvalue is 2.41063204156e-07\n"
     ]
    }
   ],
   "source": [
    "#trying python in built t test\n",
    "t_stat,p_value=stats.ttest_1samp(array_temperature, 98.6)\n",
    "print('the t stat is',t_stat,';  pvalue is',p_value)"
   ]
  },
  {
   "cell_type": "markdown",
   "metadata": {},
   "source": [
    "At 95% confidence level , this shows that both t and z test indicate that our null hypothesis that the population mean is 98.6 F is wrong. "
   ]
  },
  {
   "cell_type": "markdown",
   "metadata": {},
   "source": [
    "# Q4)Draw a small sample of size 10 from the data and repeat both tests. \n",
    "Which one is the correct one to use? \n",
    "What do you notice? What does this tell you about the difference in application of the \n",
    "t and z statistic? "
   ]
  },
  {
   "cell_type": "markdown",
   "metadata": {},
   "source": [
    "# Ans: \n",
    "10 will be too small a sample size to draw for z test, nevertheless we will do a bootstrap test and then a t test."
   ]
  },
  {
   "cell_type": "code",
   "execution_count": 266,
   "metadata": {},
   "outputs": [
    {
     "name": "stdout",
     "output_type": "stream",
     "text": [
      "0.236251626661\n",
      "98.5970992308\n",
      "[ 98.16076923  99.08101923]\n"
     ]
    }
   ],
   "source": [
    "#shifting array so that mean is 98.6\n",
    "shifted_data_2=array_temperature-mu+98.6\n",
    "temp_replicates_2=get_replicates(shifted_data_2,1000,10)\n",
    "print(np.std(temp_replicates_2))\n",
    "print(np.mean(temp_replicates_2))\n",
    "conf_int_2 = np.percentile(temp_replicates_2, [2.5, 97.5])\n",
    "print(conf_int_2)"
   ]
  },
  {
   "cell_type": "code",
   "execution_count": 267,
   "metadata": {},
   "outputs": [
    {
     "name": "stdout",
     "output_type": "stream",
     "text": [
      "p =  0.071\n"
     ]
    }
   ],
   "source": [
    "# Compute fraction of replicates that are less than the 0bserved\n",
    "p = np.sum(temp_replicates_2 <= mu) / 1000\n",
    "\n",
    "# Print the p-value\n",
    "print('p = ', p)\n",
    "#z test with smaller sample size of 10"
   ]
  },
  {
   "cell_type": "markdown",
   "metadata": {},
   "source": [
    "At 95% confidence level , this would not reject the null hypothesis that that the sample and population mean are the same. "
   ]
  },
  {
   "cell_type": "code",
   "execution_count": 231,
   "metadata": {},
   "outputs": [
    {
     "data": {
      "text/plain": [
       "Ttest_1sampResult(statistic=-1.1838326968007498, pvalue=0.26680263387753328)"
      ]
     },
     "execution_count": 231,
     "metadata": {},
     "output_type": "execute_result"
    }
   ],
   "source": [
    "sample_of_10=np.random.choice(array_temperature,10)\n",
    "stats.ttest_1samp(sample_of_10, 98.6)\n"
   ]
  },
  {
   "cell_type": "markdown",
   "metadata": {},
   "source": [
    "The problem is that t stat moves around with different runs of the code and hence no conclusion can be drawn. It appears that sample size of 10 is too small to draw any conclusion.  "
   ]
  },
  {
   "cell_type": "markdown",
   "metadata": {},
   "source": [
    "# Q5 At what temperature should we consider someone's temperature to be \"abnormal\"? \n",
    "Start by computing the margin of error and confidence interval. \n"
   ]
  },
  {
   "cell_type": "markdown",
   "metadata": {},
   "source": [
    "Ans: We are calculating the confidence interval of the population and not sample means. We will assume that sample std dvn is same as  population std dvn. This is the best apporoximation we have."
   ]
  },
  {
   "cell_type": "code",
   "execution_count": 302,
   "metadata": {},
   "outputs": [
    {
     "name": "stdout",
     "output_type": "stream",
     "text": [
      "95% level confidence interval is (96.81775582674824, 99.680705711713316)\n",
      "The margin of error is 2.86294988497 F at 95% confidence level\n",
      "So 8 out of a sample of  130 above have temperatures that fall outside of our confidence interval\n"
     ]
    }
   ],
   "source": [
    "#calculate with  95%  confidence, the confidence internal from original data\n",
    "conf_int_95 = stats.norm.interval(0.95, loc=mu, scale=sigma)\n",
    "print('95% level confidence interval is', conf_int_95)\n",
    "s1_95,s2_95 =conf_int_95[0]-mu,conf_int_95[1]-mu\n",
    "print('The margin of error is',s2_95-s1_95,'F at 95% confidence level')\n",
    "\n",
    "print ('So',(len(df[(df.temperature < conf_int_95[0]) | (df.temperature > conf_int_95[1])])),'out of a sample of ',len(df.temperature),'above have temperatures that fall outside of our confidence interval')"
   ]
  },
  {
   "cell_type": "markdown",
   "metadata": {},
   "source": [
    "So at 95% confidence level, the margin of error for mean 98.2492 F body temperature is +/-1.43 F.So temperature below 96.82 F and above  99.68 should be considered abnormal.A word of caution here- may be sample std dvn is not the same as population std dvn. "
   ]
  },
  {
   "cell_type": "markdown",
   "metadata": {},
   "source": [
    "# Q6 Is there a significant difference between males and females in normal temperature? \n",
    "What test did you use and why? \n",
    "Write a story with your conclusion in the context of the original problem. "
   ]
  },
  {
   "cell_type": "markdown",
   "metadata": {},
   "source": [
    "# Ans: \n",
    "We will do 2 sample z as well as t tests. Our null hypothesis is that the male and female temperatures are essentially the same."
   ]
  },
  {
   "cell_type": "code",
   "execution_count": 143,
   "metadata": {
    "collapsed": true
   },
   "outputs": [],
   "source": [
    "array_temperature_male=df[df['gender']=='M']['temperature'].values\n",
    "array_temperature_female=df[df['gender']=='F']['temperature'].values"
   ]
  },
  {
   "cell_type": "code",
   "execution_count": 305,
   "metadata": {},
   "outputs": [
    {
     "name": "stdout",
     "output_type": "stream",
     "text": [
      "male mean= 98.1046153846\n",
      "male median= 98.1\n",
      "male std= 0.693359884183\n",
      "male data points= 65\n",
      "female mean= 98.3938461538\n",
      "female median= 98.4\n",
      "female std= 0.737746448643\n",
      "female data points= 65\n"
     ]
    }
   ],
   "source": [
    "mu_male = np.mean(array_temperature_male)\n",
    "median_male = np.median(array_temperature_male)\n",
    "sigma_male = np.std(array_temperature_male)\n",
    "len_male=len(array_temperature_male)\n",
    "print('male mean=',mu_male)\n",
    "print('male median=',median_male)\n",
    "print('male std=',sigma_male)\n",
    "print('male data points=',len_male)\n",
    "\n",
    "mu_female = np.mean(array_temperature_female)\n",
    "median_female = np.median(array_temperature_female)\n",
    "sigma_female = np.std(array_temperature_female)\n",
    "len_female=len(array_temperature_female)\n",
    "print('female mean=', mu_female)\n",
    "print('female median=',median_female)\n",
    "print('female std=',sigma_female)\n",
    "print('female data points=',len_female)"
   ]
  },
  {
   "cell_type": "code",
   "execution_count": 161,
   "metadata": {},
   "outputs": [
    {
     "data": {
      "text/plain": [
       "Ttest_indResult(statistic=-2.2854345381656112, pvalue=0.023938264182934196)"
      ]
     },
     "execution_count": 161,
     "metadata": {},
     "output_type": "execute_result"
    }
   ],
   "source": [
    "stats.ttest_ind(array_temperature_male,array_temperature_female,equal_var=False)"
   ]
  },
  {
   "cell_type": "code",
   "execution_count": 164,
   "metadata": {
    "collapsed": true
   },
   "outputs": [],
   "source": [
    "#second method\n",
    "def twoSampZ(X1, X2, mudiff, sd1, sd2, n1, n2):\n",
    "    pooledSE = np.sqrt(sd1**2/n1 + sd2**2/n2)\n",
    "    z = ((X1 - X2) - mudiff)/pooledSE\n",
    "    pval = 2*(1 - stats.norm.cdf(np.abs(z)))\n",
    "    return round(z, 3), round(pval, 4)"
   ]
  },
  {
   "cell_type": "code",
   "execution_count": 171,
   "metadata": {},
   "outputs": [
    {
     "name": "stdout",
     "output_type": "stream",
     "text": [
      "(-2.3029999999999999, 0.021299999999999999)\n"
     ]
    }
   ],
   "source": [
    "z_test_result = twoSampZ(mu_male,mu_female,0,sigma_male,sigma_female,len_male,len_female)\n",
    "print(z_test_result)"
   ]
  },
  {
   "cell_type": "code",
   "execution_count": 175,
   "metadata": {},
   "outputs": [
    {
     "data": {
      "text/plain": [
       "array([<matplotlib.axes._subplots.AxesSubplot object at 0x00000148CF89E470>,\n",
       "       <matplotlib.axes._subplots.AxesSubplot object at 0x00000148CF927320>], dtype=object)"
      ]
     },
     "execution_count": 175,
     "metadata": {},
     "output_type": "execute_result"
    },
    {
     "data": {
      "image/png": "[encoded data removed]",
      "text/plain": [
       "<matplotlib.figure.Figure at 0x148cf8b1f98>"
      ]
     },
     "metadata": {},
     "output_type": "display_data"
    }
   ],
   "source": [
    "# Show histograms for males and females separately\n",
    "df['temperature'].hist(by=df['gender'], range=[95.5, 101.5])\n"
   ]
  },
  {
   "cell_type": "markdown",
   "metadata": {
    "collapsed": true
   },
   "source": [
    "A p and t values are less than 0.025 (two-tailed hypothesis for 95% significane), we can reject the null hypothesis that the male and female body temperatures are the same. But to be sure, it does not mean we can conclude that male and female body temperatures are different. "
   ]
  }
 ],
 "metadata": {
  "kernelspec": {
   "display_name": "Python 3",
   "language": "python",
   "name": "python3"
  },
  "language_info": {
   "codemirror_mode": {
    "name": "ipython",
    "version": 3
   },
   "file_extension": ".py",
   "mimetype": "text/x-python",
   "name": "python",
   "nbconvert_exporter": "python",
   "pygments_lexer": "ipython3",
   "version": "3.6.3"
  }
 },
 "nbformat": 4,
 "nbformat_minor": 1
}
